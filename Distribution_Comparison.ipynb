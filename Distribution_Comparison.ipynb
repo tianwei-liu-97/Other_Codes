{
 "cells": [
  {
   "cell_type": "code",
   "execution_count": 1,
   "metadata": {},
   "outputs": [],
   "source": [
    "import pandas as pd\n",
    "import datetime\n",
    "import numpy as np"
   ]
  },
  {
   "cell_type": "code",
   "execution_count": 2,
   "metadata": {},
   "outputs": [
    {
     "data": {
      "text/html": [
       "<div>\n",
       "<style scoped>\n",
       "    .dataframe tbody tr th:only-of-type {\n",
       "        vertical-align: middle;\n",
       "    }\n",
       "\n",
       "    .dataframe tbody tr th {\n",
       "        vertical-align: top;\n",
       "    }\n",
       "\n",
       "    .dataframe thead th {\n",
       "        text-align: right;\n",
       "    }\n",
       "</style>\n",
       "<table border=\"1\" class=\"dataframe\">\n",
       "  <thead>\n",
       "    <tr style=\"text-align: right;\">\n",
       "      <th></th>\n",
       "      <th>Response ID</th>\n",
       "      <th>Last Name</th>\n",
       "      <th>First Name</th>\n",
       "      <th>Email</th>\n",
       "      <th>Status</th>\n",
       "      <th>End Date</th>\n",
       "      <th>Unnamed: 6</th>\n",
       "    </tr>\n",
       "  </thead>\n",
       "  <tbody>\n",
       "    <tr>\n",
       "      <td>0</td>\n",
       "      <td>R_0qAIMw5Qfh4oVXj</td>\n",
       "      <td>Abad</td>\n",
       "      <td>Cristina Lucia</td>\n",
       "      <td>cabad@fiec.espol.edu.ec</td>\n",
       "      <td>Finished Survey</td>\n",
       "      <td>12/5/19 11:47</td>\n",
       "      <td>NaN</td>\n",
       "    </tr>\n",
       "    <tr>\n",
       "      <td>1</td>\n",
       "      <td>NaN</td>\n",
       "      <td>Abbasi Asl</td>\n",
       "      <td>Reza</td>\n",
       "      <td>abbasi@berkeley.edu</td>\n",
       "      <td>Email Sent</td>\n",
       "      <td>NaN</td>\n",
       "      <td>NaN</td>\n",
       "    </tr>\n",
       "    <tr>\n",
       "      <td>2</td>\n",
       "      <td>NaN</td>\n",
       "      <td>Abbott</td>\n",
       "      <td>Joshua Thomas</td>\n",
       "      <td>joshua.abbott@berkeley.edu</td>\n",
       "      <td>Email Sent</td>\n",
       "      <td>NaN</td>\n",
       "      <td>NaN</td>\n",
       "    </tr>\n",
       "    <tr>\n",
       "      <td>3</td>\n",
       "      <td>NaN</td>\n",
       "      <td>Abe</td>\n",
       "      <td>Keita</td>\n",
       "      <td>keita43@uw.edu</td>\n",
       "      <td>Email Bounced</td>\n",
       "      <td>NaN</td>\n",
       "      <td>NaN</td>\n",
       "    </tr>\n",
       "    <tr>\n",
       "      <td>4</td>\n",
       "      <td>NaN</td>\n",
       "      <td>Aberger</td>\n",
       "      <td>Christopher R.</td>\n",
       "      <td>craberger@gmail.com</td>\n",
       "      <td>Email Sent</td>\n",
       "      <td>NaN</td>\n",
       "      <td>NaN</td>\n",
       "    </tr>\n",
       "  </tbody>\n",
       "</table>\n",
       "</div>"
      ],
      "text/plain": [
       "         Response ID   Last Name      First Name                       Email  \\\n",
       "0  R_0qAIMw5Qfh4oVXj        Abad  Cristina Lucia     cabad@fiec.espol.edu.ec   \n",
       "1                NaN  Abbasi Asl            Reza         abbasi@berkeley.edu   \n",
       "2                NaN      Abbott   Joshua Thomas  joshua.abbott@berkeley.edu   \n",
       "3                NaN         Abe           Keita              keita43@uw.edu   \n",
       "4                NaN     Aberger  Christopher R.         craberger@gmail.com   \n",
       "\n",
       "            Status       End Date Unnamed: 6  \n",
       "0  Finished Survey  12/5/19 11:47        NaN  \n",
       "1       Email Sent            NaN        NaN  \n",
       "2       Email Sent            NaN        NaN  \n",
       "3    Email Bounced            NaN        NaN  \n",
       "4       Email Sent            NaN        NaN  "
      ]
     },
     "execution_count": 2,
     "metadata": {},
     "output_type": "execute_result"
    }
   ],
   "source": [
    "dec10 = pd.read_csv('Distribution_Dec_10.csv')\n",
    "dec18 = pd.read_csv('Distribution_Dec_18.csv')\n",
    "dec10.head(5)"
   ]
  },
  {
   "cell_type": "code",
   "execution_count": 3,
   "metadata": {},
   "outputs": [],
   "source": [
    "dec10 = dec10.rename(columns= {'End Date':'end_date','Status':'Status10'})\n",
    "dec18 = dec18.rename(columns= {'End Date':'end_date','Status':'Status18'})"
   ]
  },
  {
   "cell_type": "code",
   "execution_count": 4,
   "metadata": {},
   "outputs": [],
   "source": [
    "dec10['date'] = pd.to_datetime(dec10['end_date']).dt.day"
   ]
  },
  {
   "cell_type": "code",
   "execution_count": 5,
   "metadata": {},
   "outputs": [],
   "source": [
    "dec18['date'] = pd.to_datetime(dec18['end_date']).dt.day"
   ]
  },
  {
   "cell_type": "code",
   "execution_count": 6,
   "metadata": {
    "scrolled": true
   },
   "outputs": [],
   "source": [
    "dec18s = dec18.loc[:,['Email','Status18']]\n",
    "dec10s = dec10.loc[:,[\"Email\",'Status10']]"
   ]
  },
  {
   "cell_type": "code",
   "execution_count": 7,
   "metadata": {},
   "outputs": [],
   "source": [
    "dec18.loc[dec18['date'] >= 11.0, 'New'] = 'Yes'"
   ]
  },
  {
   "cell_type": "code",
   "execution_count": 8,
   "metadata": {},
   "outputs": [
    {
     "data": {
      "text/html": [
       "<div>\n",
       "<style scoped>\n",
       "    .dataframe tbody tr th:only-of-type {\n",
       "        vertical-align: middle;\n",
       "    }\n",
       "\n",
       "    .dataframe tbody tr th {\n",
       "        vertical-align: top;\n",
       "    }\n",
       "\n",
       "    .dataframe thead th {\n",
       "        text-align: right;\n",
       "    }\n",
       "</style>\n",
       "<table border=\"1\" class=\"dataframe\">\n",
       "  <thead>\n",
       "    <tr style=\"text-align: right;\">\n",
       "      <th></th>\n",
       "      <th>Email</th>\n",
       "      <th>Status18</th>\n",
       "    </tr>\n",
       "  </thead>\n",
       "  <tbody>\n",
       "    <tr>\n",
       "      <td>0</td>\n",
       "      <td>cabad@fiec.espol.edu.ec</td>\n",
       "      <td>Finished Survey</td>\n",
       "    </tr>\n",
       "    <tr>\n",
       "      <td>1</td>\n",
       "      <td>abbasi@berkeley.edu</td>\n",
       "      <td>Email Sent</td>\n",
       "    </tr>\n",
       "    <tr>\n",
       "      <td>2</td>\n",
       "      <td>joshua.abbott@berkeley.edu</td>\n",
       "      <td>Email Sent</td>\n",
       "    </tr>\n",
       "    <tr>\n",
       "      <td>3</td>\n",
       "      <td>keita43@uw.edu</td>\n",
       "      <td>Email Bounced</td>\n",
       "    </tr>\n",
       "    <tr>\n",
       "      <td>4</td>\n",
       "      <td>craberger@gmail.com</td>\n",
       "      <td>Email Sent</td>\n",
       "    </tr>\n",
       "    <tr>\n",
       "      <td>...</td>\n",
       "      <td>...</td>\n",
       "      <td>...</td>\n",
       "    </tr>\n",
       "    <tr>\n",
       "      <td>2173</td>\n",
       "      <td>jzim@cs.stanford.edu</td>\n",
       "      <td>Email Sent</td>\n",
       "    </tr>\n",
       "    <tr>\n",
       "      <td>2174</td>\n",
       "      <td>ziyadi2@illinois.edu</td>\n",
       "      <td>Email Bounced</td>\n",
       "    </tr>\n",
       "    <tr>\n",
       "      <td>2175</td>\n",
       "      <td>dzou@umn.edu</td>\n",
       "      <td>Finished Survey</td>\n",
       "    </tr>\n",
       "    <tr>\n",
       "      <td>2176</td>\n",
       "      <td>wzou@alumni.stanford.edu</td>\n",
       "      <td>Email Sent</td>\n",
       "    </tr>\n",
       "    <tr>\n",
       "      <td>2177</td>\n",
       "      <td>zwillin1@illinois.edu</td>\n",
       "      <td>Email Sent</td>\n",
       "    </tr>\n",
       "  </tbody>\n",
       "</table>\n",
       "<p>2178 rows × 2 columns</p>\n",
       "</div>"
      ],
      "text/plain": [
       "                           Email         Status18\n",
       "0        cabad@fiec.espol.edu.ec  Finished Survey\n",
       "1            abbasi@berkeley.edu       Email Sent\n",
       "2     joshua.abbott@berkeley.edu       Email Sent\n",
       "3                 keita43@uw.edu    Email Bounced\n",
       "4            craberger@gmail.com       Email Sent\n",
       "...                          ...              ...\n",
       "2173        jzim@cs.stanford.edu       Email Sent\n",
       "2174        ziyadi2@illinois.edu    Email Bounced\n",
       "2175                dzou@umn.edu  Finished Survey\n",
       "2176    wzou@alumni.stanford.edu       Email Sent\n",
       "2177       zwillin1@illinois.edu       Email Sent\n",
       "\n",
       "[2178 rows x 2 columns]"
      ]
     },
     "execution_count": 8,
     "metadata": {},
     "output_type": "execute_result"
    }
   ],
   "source": [
    "dec18s"
   ]
  },
  {
   "cell_type": "code",
   "execution_count": 9,
   "metadata": {},
   "outputs": [
    {
     "data": {
      "text/html": [
       "<div>\n",
       "<style scoped>\n",
       "    .dataframe tbody tr th:only-of-type {\n",
       "        vertical-align: middle;\n",
       "    }\n",
       "\n",
       "    .dataframe tbody tr th {\n",
       "        vertical-align: top;\n",
       "    }\n",
       "\n",
       "    .dataframe thead th {\n",
       "        text-align: right;\n",
       "    }\n",
       "</style>\n",
       "<table border=\"1\" class=\"dataframe\">\n",
       "  <thead>\n",
       "    <tr style=\"text-align: right;\">\n",
       "      <th></th>\n",
       "      <th>Email</th>\n",
       "      <th>Status10</th>\n",
       "      <th>Status18</th>\n",
       "    </tr>\n",
       "  </thead>\n",
       "  <tbody>\n",
       "    <tr>\n",
       "      <td>0</td>\n",
       "      <td>cabad@fiec.espol.edu.ec</td>\n",
       "      <td>Finished Survey</td>\n",
       "      <td>Finished Survey</td>\n",
       "    </tr>\n",
       "    <tr>\n",
       "      <td>1</td>\n",
       "      <td>abbasi@berkeley.edu</td>\n",
       "      <td>Email Sent</td>\n",
       "      <td>Email Sent</td>\n",
       "    </tr>\n",
       "    <tr>\n",
       "      <td>2</td>\n",
       "      <td>joshua.abbott@berkeley.edu</td>\n",
       "      <td>Email Sent</td>\n",
       "      <td>Email Sent</td>\n",
       "    </tr>\n",
       "    <tr>\n",
       "      <td>3</td>\n",
       "      <td>keita43@uw.edu</td>\n",
       "      <td>Email Bounced</td>\n",
       "      <td>Email Bounced</td>\n",
       "    </tr>\n",
       "    <tr>\n",
       "      <td>4</td>\n",
       "      <td>craberger@gmail.com</td>\n",
       "      <td>Email Sent</td>\n",
       "      <td>Email Sent</td>\n",
       "    </tr>\n",
       "    <tr>\n",
       "      <td>...</td>\n",
       "      <td>...</td>\n",
       "      <td>...</td>\n",
       "      <td>...</td>\n",
       "    </tr>\n",
       "    <tr>\n",
       "      <td>2173</td>\n",
       "      <td>ziyadi2@illinois.edu</td>\n",
       "      <td>Email Bounced</td>\n",
       "      <td>Email Bounced</td>\n",
       "    </tr>\n",
       "    <tr>\n",
       "      <td>2174</td>\n",
       "      <td>dzou@umn.edu</td>\n",
       "      <td>Started Survey</td>\n",
       "      <td>Finished Survey</td>\n",
       "    </tr>\n",
       "    <tr>\n",
       "      <td>2175</td>\n",
       "      <td>wzou@alumni.stanford.edu</td>\n",
       "      <td>Email Sent</td>\n",
       "      <td>Email Sent</td>\n",
       "    </tr>\n",
       "    <tr>\n",
       "      <td>2176</td>\n",
       "      <td>zwillin1@illinois.edu</td>\n",
       "      <td>Email Sent</td>\n",
       "      <td>Email Sent</td>\n",
       "    </tr>\n",
       "    <tr>\n",
       "      <td>2177</td>\n",
       "      <td>jessicatysu@gmail.com</td>\n",
       "      <td>NaN</td>\n",
       "      <td>Email Failed</td>\n",
       "    </tr>\n",
       "  </tbody>\n",
       "</table>\n",
       "<p>2178 rows × 3 columns</p>\n",
       "</div>"
      ],
      "text/plain": [
       "                           Email         Status10         Status18\n",
       "0        cabad@fiec.espol.edu.ec  Finished Survey  Finished Survey\n",
       "1            abbasi@berkeley.edu       Email Sent       Email Sent\n",
       "2     joshua.abbott@berkeley.edu       Email Sent       Email Sent\n",
       "3                 keita43@uw.edu    Email Bounced    Email Bounced\n",
       "4            craberger@gmail.com       Email Sent       Email Sent\n",
       "...                          ...              ...              ...\n",
       "2173        ziyadi2@illinois.edu    Email Bounced    Email Bounced\n",
       "2174                dzou@umn.edu   Started Survey  Finished Survey\n",
       "2175    wzou@alumni.stanford.edu       Email Sent       Email Sent\n",
       "2176       zwillin1@illinois.edu       Email Sent       Email Sent\n",
       "2177       jessicatysu@gmail.com              NaN     Email Failed\n",
       "\n",
       "[2178 rows x 3 columns]"
      ]
     },
     "execution_count": 9,
     "metadata": {},
     "output_type": "execute_result"
    }
   ],
   "source": [
    "statusmerge = dec10s.merge(dec18s, on = 'Email', how = 'right')\n",
    "statusmerge"
   ]
  },
  {
   "cell_type": "code",
   "execution_count": 10,
   "metadata": {},
   "outputs": [],
   "source": [
    "dec18new = dec18[dec18['New'] == 'Yes']"
   ]
  },
  {
   "cell_type": "code",
   "execution_count": 11,
   "metadata": {},
   "outputs": [
    {
     "data": {
      "text/plain": [
       "82"
      ]
     },
     "execution_count": 11,
     "metadata": {},
     "output_type": "execute_result"
    }
   ],
   "source": [
    "newemail = list(dec18new.Email)\n",
    "len(newemail)"
   ]
  },
  {
   "cell_type": "code",
   "execution_count": 12,
   "metadata": {},
   "outputs": [
    {
     "data": {
      "text/plain": [
       "Index(['name', 'FirstName', 'LastName', 'last_surname_part', 'email',\n",
       "       'secondary_email', 'graduate_id', 'survey complete_no reminder\\n',\n",
       "       'survey started_no reminder\\n', 'survey complete_reminder 1\\n',\n",
       "       'survey started_reminder 1\\n'],\n",
       "      dtype='object')"
      ]
     },
     "execution_count": 12,
     "metadata": {},
     "output_type": "execute_result"
    }
   ],
   "source": [
    "wave1 = pd.read_csv('Wave1PhD.csv')\n",
    "wave1.columns"
   ]
  },
  {
   "cell_type": "code",
   "execution_count": 13,
   "metadata": {},
   "outputs": [],
   "source": [
    "wave1 = wave1.rename(columns = {'survey started_reminder 1\\n':'startednew', 'survey complete_reminder 1\\n':'completednew'})"
   ]
  },
  {
   "cell_type": "code",
   "execution_count": 14,
   "metadata": {},
   "outputs": [
    {
     "data": {
      "text/html": [
       "<div>\n",
       "<style scoped>\n",
       "    .dataframe tbody tr th:only-of-type {\n",
       "        vertical-align: middle;\n",
       "    }\n",
       "\n",
       "    .dataframe tbody tr th {\n",
       "        vertical-align: top;\n",
       "    }\n",
       "\n",
       "    .dataframe thead th {\n",
       "        text-align: right;\n",
       "    }\n",
       "</style>\n",
       "<table border=\"1\" class=\"dataframe\">\n",
       "  <thead>\n",
       "    <tr style=\"text-align: right;\">\n",
       "      <th></th>\n",
       "      <th>name</th>\n",
       "      <th>FirstName</th>\n",
       "      <th>LastName</th>\n",
       "      <th>last_surname_part</th>\n",
       "      <th>email</th>\n",
       "      <th>secondary_email</th>\n",
       "      <th>graduate_id</th>\n",
       "      <th>survey complete_no reminder\\n</th>\n",
       "      <th>survey started_no reminder\\n</th>\n",
       "      <th>completednew</th>\n",
       "      <th>startednew</th>\n",
       "    </tr>\n",
       "  </thead>\n",
       "  <tbody>\n",
       "    <tr>\n",
       "      <td>0</td>\n",
       "      <td>Abad, Cristina Lucia</td>\n",
       "      <td>Cristina Lucia</td>\n",
       "      <td>Abad</td>\n",
       "      <td>Abad</td>\n",
       "      <td>cabad@fiec.espol.edu.ec</td>\n",
       "      <td>NaN</td>\n",
       "      <td>Abad, Cristina Lucia (University of Illinois a...</td>\n",
       "      <td>1.0</td>\n",
       "      <td>NaN</td>\n",
       "      <td>NaN</td>\n",
       "      <td>NaN</td>\n",
       "    </tr>\n",
       "    <tr>\n",
       "      <td>1</td>\n",
       "      <td>Abbasi Asl, Reza</td>\n",
       "      <td>Reza</td>\n",
       "      <td>Abbasi Asl</td>\n",
       "      <td>Asl</td>\n",
       "      <td>abbasi@berkeley.edu</td>\n",
       "      <td>NaN</td>\n",
       "      <td>Abbasi Asl, Reza (University of California, Be...</td>\n",
       "      <td>NaN</td>\n",
       "      <td>NaN</td>\n",
       "      <td>NaN</td>\n",
       "      <td>NaN</td>\n",
       "    </tr>\n",
       "    <tr>\n",
       "      <td>2</td>\n",
       "      <td>Abbott, Joshua Thomas</td>\n",
       "      <td>Joshua Thomas</td>\n",
       "      <td>Abbott</td>\n",
       "      <td>Abbott</td>\n",
       "      <td>joshua.abbott@berkeley.edu</td>\n",
       "      <td>NaN</td>\n",
       "      <td>Abbott, Joshua Thomas (University of Californi...</td>\n",
       "      <td>NaN</td>\n",
       "      <td>NaN</td>\n",
       "      <td>NaN</td>\n",
       "      <td>NaN</td>\n",
       "    </tr>\n",
       "  </tbody>\n",
       "</table>\n",
       "</div>"
      ],
      "text/plain": [
       "                    name       FirstName    LastName last_surname_part  \\\n",
       "0   Abad, Cristina Lucia  Cristina Lucia        Abad              Abad   \n",
       "1       Abbasi Asl, Reza            Reza  Abbasi Asl               Asl   \n",
       "2  Abbott, Joshua Thomas   Joshua Thomas      Abbott            Abbott   \n",
       "\n",
       "                        email secondary_email  \\\n",
       "0     cabad@fiec.espol.edu.ec             NaN   \n",
       "1         abbasi@berkeley.edu             NaN   \n",
       "2  joshua.abbott@berkeley.edu             NaN   \n",
       "\n",
       "                                         graduate_id  \\\n",
       "0  Abad, Cristina Lucia (University of Illinois a...   \n",
       "1  Abbasi Asl, Reza (University of California, Be...   \n",
       "2  Abbott, Joshua Thomas (University of Californi...   \n",
       "\n",
       "   survey complete_no reminder\\n  survey started_no reminder\\n  completednew  \\\n",
       "0                            1.0                           NaN           NaN   \n",
       "1                            NaN                           NaN           NaN   \n",
       "2                            NaN                           NaN           NaN   \n",
       "\n",
       "   startednew  \n",
       "0         NaN  \n",
       "1         NaN  \n",
       "2         NaN  "
      ]
     },
     "execution_count": 14,
     "metadata": {},
     "output_type": "execute_result"
    }
   ],
   "source": [
    "wave1.head(3)"
   ]
  },
  {
   "cell_type": "code",
   "execution_count": 15,
   "metadata": {},
   "outputs": [
    {
     "name": "stderr",
     "output_type": "stream",
     "text": [
      "D:\\Users\\15952\\Anaconda3\\lib\\site-packages\\ipykernel_launcher.py:3: SettingWithCopyWarning: \n",
      "A value is trying to be set on a copy of a slice from a DataFrame\n",
      "\n",
      "See the caveats in the documentation: http://pandas.pydata.org/pandas-docs/stable/user_guide/indexing.html#returning-a-view-versus-a-copy\n",
      "  This is separate from the ipykernel package so we can avoid doing imports until\n"
     ]
    }
   ],
   "source": [
    "for i in range(wave1.shape[0]):\n",
    "    if wave1.email[i] in newemail:\n",
    "        wave1.completednew[i] = 1"
   ]
  },
  {
   "cell_type": "code",
   "execution_count": 16,
   "metadata": {},
   "outputs": [
    {
     "data": {
      "text/plain": [
       "82.0"
      ]
     },
     "execution_count": 16,
     "metadata": {},
     "output_type": "execute_result"
    }
   ],
   "source": [
    "wave1.completednew.sum()"
   ]
  },
  {
   "cell_type": "code",
   "execution_count": 17,
   "metadata": {},
   "outputs": [
    {
     "data": {
      "text/plain": [
       "array(['Finished Survey', 'Email Sent', 'Email Bounced', 'Started Survey',\n",
       "       'Opted Out', 'Email Failed', nan], dtype=object)"
      ]
     },
     "execution_count": 17,
     "metadata": {},
     "output_type": "execute_result"
    }
   ],
   "source": [
    "statusmerge.Status10.unique()"
   ]
  },
  {
   "cell_type": "code",
   "execution_count": 18,
   "metadata": {},
   "outputs": [
    {
     "data": {
      "text/html": [
       "<div>\n",
       "<style scoped>\n",
       "    .dataframe tbody tr th:only-of-type {\n",
       "        vertical-align: middle;\n",
       "    }\n",
       "\n",
       "    .dataframe tbody tr th {\n",
       "        vertical-align: top;\n",
       "    }\n",
       "\n",
       "    .dataframe thead th {\n",
       "        text-align: right;\n",
       "    }\n",
       "</style>\n",
       "<table border=\"1\" class=\"dataframe\">\n",
       "  <thead>\n",
       "    <tr style=\"text-align: right;\">\n",
       "      <th></th>\n",
       "      <th>Email</th>\n",
       "      <th>Status10</th>\n",
       "      <th>Status18</th>\n",
       "    </tr>\n",
       "  </thead>\n",
       "  <tbody>\n",
       "    <tr>\n",
       "      <td>0</td>\n",
       "      <td>cabad@fiec.espol.edu.ec</td>\n",
       "      <td>Finished Survey</td>\n",
       "      <td>Finished Survey</td>\n",
       "    </tr>\n",
       "    <tr>\n",
       "      <td>1</td>\n",
       "      <td>abbasi@berkeley.edu</td>\n",
       "      <td>Email Sent</td>\n",
       "      <td>Email Sent</td>\n",
       "    </tr>\n",
       "    <tr>\n",
       "      <td>2</td>\n",
       "      <td>joshua.abbott@berkeley.edu</td>\n",
       "      <td>Email Sent</td>\n",
       "      <td>Email Sent</td>\n",
       "    </tr>\n",
       "    <tr>\n",
       "      <td>3</td>\n",
       "      <td>keita43@uw.edu</td>\n",
       "      <td>Email Bounced</td>\n",
       "      <td>Email Bounced</td>\n",
       "    </tr>\n",
       "    <tr>\n",
       "      <td>4</td>\n",
       "      <td>craberger@gmail.com</td>\n",
       "      <td>Email Sent</td>\n",
       "      <td>Email Sent</td>\n",
       "    </tr>\n",
       "    <tr>\n",
       "      <td>...</td>\n",
       "      <td>...</td>\n",
       "      <td>...</td>\n",
       "      <td>...</td>\n",
       "    </tr>\n",
       "    <tr>\n",
       "      <td>2173</td>\n",
       "      <td>ziyadi2@illinois.edu</td>\n",
       "      <td>Email Bounced</td>\n",
       "      <td>Email Bounced</td>\n",
       "    </tr>\n",
       "    <tr>\n",
       "      <td>2174</td>\n",
       "      <td>dzou@umn.edu</td>\n",
       "      <td>Started Survey</td>\n",
       "      <td>Finished Survey</td>\n",
       "    </tr>\n",
       "    <tr>\n",
       "      <td>2175</td>\n",
       "      <td>wzou@alumni.stanford.edu</td>\n",
       "      <td>Email Sent</td>\n",
       "      <td>Email Sent</td>\n",
       "    </tr>\n",
       "    <tr>\n",
       "      <td>2176</td>\n",
       "      <td>zwillin1@illinois.edu</td>\n",
       "      <td>Email Sent</td>\n",
       "      <td>Email Sent</td>\n",
       "    </tr>\n",
       "    <tr>\n",
       "      <td>2177</td>\n",
       "      <td>jessicatysu@gmail.com</td>\n",
       "      <td>NaN</td>\n",
       "      <td>Email Failed</td>\n",
       "    </tr>\n",
       "  </tbody>\n",
       "</table>\n",
       "<p>2178 rows × 3 columns</p>\n",
       "</div>"
      ],
      "text/plain": [
       "                           Email         Status10         Status18\n",
       "0        cabad@fiec.espol.edu.ec  Finished Survey  Finished Survey\n",
       "1            abbasi@berkeley.edu       Email Sent       Email Sent\n",
       "2     joshua.abbott@berkeley.edu       Email Sent       Email Sent\n",
       "3                 keita43@uw.edu    Email Bounced    Email Bounced\n",
       "4            craberger@gmail.com       Email Sent       Email Sent\n",
       "...                          ...              ...              ...\n",
       "2173        ziyadi2@illinois.edu    Email Bounced    Email Bounced\n",
       "2174                dzou@umn.edu   Started Survey  Finished Survey\n",
       "2175    wzou@alumni.stanford.edu       Email Sent       Email Sent\n",
       "2176       zwillin1@illinois.edu       Email Sent       Email Sent\n",
       "2177       jessicatysu@gmail.com              NaN     Email Failed\n",
       "\n",
       "[2178 rows x 3 columns]"
      ]
     },
     "execution_count": 18,
     "metadata": {},
     "output_type": "execute_result"
    }
   ],
   "source": [
    "statusmerge"
   ]
  },
  {
   "cell_type": "code",
   "execution_count": 19,
   "metadata": {
    "scrolled": true
   },
   "outputs": [
    {
     "name": "stderr",
     "output_type": "stream",
     "text": [
      "D:\\Users\\15952\\Anaconda3\\lib\\site-packages\\ipykernel_launcher.py:4: SettingWithCopyWarning: \n",
      "A value is trying to be set on a copy of a slice from a DataFrame\n",
      "\n",
      "See the caveats in the documentation: http://pandas.pydata.org/pandas-docs/stable/user_guide/indexing.html#returning-a-view-versus-a-copy\n",
      "  after removing the cwd from sys.path.\n"
     ]
    }
   ],
   "source": [
    "for i in range(wave1.shape[0]):\n",
    "    if statusmerge.Status18[i] == 'Started Survey':\n",
    "        if statusmerge.Status10[i] != 'Started Survey':\n",
    "            wave1.startednew[i] = 1"
   ]
  },
  {
   "cell_type": "code",
   "execution_count": 20,
   "metadata": {},
   "outputs": [],
   "source": [
    "wave1['Bounced'] = np.nan\n",
    "wave1['Opted_Out'] = np.nan"
   ]
  },
  {
   "cell_type": "code",
   "execution_count": 21,
   "metadata": {},
   "outputs": [],
   "source": [
    "for i in range(wave1.shape[0]):\n",
    "    if (statusmerge.Status18[i] == 'Email Bounced'):\n",
    "        if (statusmerge.Status10[i] != 'Email Bounced'):\n",
    "            wave1['Bounced'][i] = 1"
   ]
  },
  {
   "cell_type": "code",
   "execution_count": 22,
   "metadata": {},
   "outputs": [
    {
     "name": "stderr",
     "output_type": "stream",
     "text": [
      "D:\\Users\\15952\\Anaconda3\\lib\\site-packages\\ipykernel_launcher.py:4: SettingWithCopyWarning: \n",
      "A value is trying to be set on a copy of a slice from a DataFrame\n",
      "\n",
      "See the caveats in the documentation: http://pandas.pydata.org/pandas-docs/stable/user_guide/indexing.html#returning-a-view-versus-a-copy\n",
      "  after removing the cwd from sys.path.\n"
     ]
    }
   ],
   "source": [
    "for i in range(wave1.shape[0]):\n",
    "    if (statusmerge.Status18[i] == 'Email Failed'):\n",
    "        if (statusmerge.Status10[i] != 'Email Failed'):\n",
    "            wave1['Bounced'][i] = 1"
   ]
  },
  {
   "cell_type": "code",
   "execution_count": 23,
   "metadata": {},
   "outputs": [
    {
     "name": "stderr",
     "output_type": "stream",
     "text": [
      "D:\\Users\\15952\\Anaconda3\\lib\\site-packages\\ipykernel_launcher.py:4: SettingWithCopyWarning: \n",
      "A value is trying to be set on a copy of a slice from a DataFrame\n",
      "\n",
      "See the caveats in the documentation: http://pandas.pydata.org/pandas-docs/stable/user_guide/indexing.html#returning-a-view-versus-a-copy\n",
      "  after removing the cwd from sys.path.\n"
     ]
    }
   ],
   "source": [
    "for i in range(wave1.shape[0]):\n",
    "    if statusmerge.Status18[i] == 'Opted Out':\n",
    "        if statusmerge.Status10[i] != 'Opted Out':\n",
    "            wave1['Opted_Out'][i] = 1"
   ]
  },
  {
   "cell_type": "code",
   "execution_count": 24,
   "metadata": {},
   "outputs": [],
   "source": [
    "wave1.to_csv(r'C:\\\\Users\\\\15952\\\\Desktop\\\\CSET\\\\StatusMerge1221.csv')"
   ]
  },
  {
   "cell_type": "code",
   "execution_count": 25,
   "metadata": {},
   "outputs": [
    {
     "data": {
      "text/plain": [
       "'C:\\\\Users\\\\15952\\\\Desktop\\\\CSET\\\\12.21'"
      ]
     },
     "execution_count": 25,
     "metadata": {},
     "output_type": "execute_result"
    }
   ],
   "source": [
    "import os\n",
    "os.getcwd()"
   ]
  },
  {
   "cell_type": "code",
   "execution_count": 26,
   "metadata": {},
   "outputs": [
    {
     "data": {
      "text/plain": [
       "82.0"
      ]
     },
     "execution_count": 26,
     "metadata": {},
     "output_type": "execute_result"
    }
   ],
   "source": [
    "wave1.completednew.sum()"
   ]
  },
  {
   "cell_type": "code",
   "execution_count": 27,
   "metadata": {},
   "outputs": [
    {
     "data": {
      "text/html": [
       "<div>\n",
       "<style scoped>\n",
       "    .dataframe tbody tr th:only-of-type {\n",
       "        vertical-align: middle;\n",
       "    }\n",
       "\n",
       "    .dataframe tbody tr th {\n",
       "        vertical-align: top;\n",
       "    }\n",
       "\n",
       "    .dataframe thead th {\n",
       "        text-align: right;\n",
       "    }\n",
       "</style>\n",
       "<table border=\"1\" class=\"dataframe\">\n",
       "  <thead>\n",
       "    <tr style=\"text-align: right;\">\n",
       "      <th></th>\n",
       "      <th>name</th>\n",
       "      <th>FirstName</th>\n",
       "      <th>LastName</th>\n",
       "      <th>last_surname_part</th>\n",
       "      <th>email</th>\n",
       "      <th>secondary_email</th>\n",
       "      <th>graduate_id</th>\n",
       "      <th>survey complete_no reminder\\n</th>\n",
       "      <th>survey started_no reminder\\n</th>\n",
       "      <th>completednew</th>\n",
       "      <th>startednew</th>\n",
       "      <th>Bounced</th>\n",
       "      <th>Opted_Out</th>\n",
       "    </tr>\n",
       "  </thead>\n",
       "  <tbody>\n",
       "    <tr>\n",
       "      <td>109</td>\n",
       "      <td>Beaulieu-Jones, Brett Kreigh</td>\n",
       "      <td>Brett Kreigh</td>\n",
       "      <td>Beaulieu-Jones</td>\n",
       "      <td>Beaulieu-Jones</td>\n",
       "      <td>Brett_Beaulieu-Jones@hms.harvard.edu</td>\n",
       "      <td>NaN</td>\n",
       "      <td>Beaulieu-Jones, Brett Kreigh (University of Pe...</td>\n",
       "      <td>NaN</td>\n",
       "      <td>NaN</td>\n",
       "      <td>NaN</td>\n",
       "      <td>NaN</td>\n",
       "      <td>NaN</td>\n",
       "      <td>1.0</td>\n",
       "    </tr>\n",
       "    <tr>\n",
       "      <td>115</td>\n",
       "      <td>Austin R Benson</td>\n",
       "      <td>Austin R</td>\n",
       "      <td>Benson</td>\n",
       "      <td>Benson</td>\n",
       "      <td>arb@cs.cornell.edu</td>\n",
       "      <td>NaN</td>\n",
       "      <td>Austin R Benson (Stanford University; 2017)</td>\n",
       "      <td>NaN</td>\n",
       "      <td>NaN</td>\n",
       "      <td>NaN</td>\n",
       "      <td>NaN</td>\n",
       "      <td>NaN</td>\n",
       "      <td>1.0</td>\n",
       "    </tr>\n",
       "    <tr>\n",
       "      <td>198</td>\n",
       "      <td>Cannon, Benjamin Zenas</td>\n",
       "      <td>Benjamin Zenas</td>\n",
       "      <td>Cannon</td>\n",
       "      <td>Cannon</td>\n",
       "      <td>benjamin.cannon@trinityschoolnyc.org</td>\n",
       "      <td>NaN</td>\n",
       "      <td>Cannon, Benjamin Zenas (University of Californ...</td>\n",
       "      <td>NaN</td>\n",
       "      <td>NaN</td>\n",
       "      <td>NaN</td>\n",
       "      <td>NaN</td>\n",
       "      <td>NaN</td>\n",
       "      <td>1.0</td>\n",
       "    </tr>\n",
       "    <tr>\n",
       "      <td>225</td>\n",
       "      <td>Daniel A. Chapman</td>\n",
       "      <td>Daniel A.</td>\n",
       "      <td>Chapman</td>\n",
       "      <td>Chapman</td>\n",
       "      <td>dchapman@seechangeinstitute.com</td>\n",
       "      <td>NaN</td>\n",
       "      <td>Daniel A. Chapman (University of Massachusetts...</td>\n",
       "      <td>NaN</td>\n",
       "      <td>NaN</td>\n",
       "      <td>NaN</td>\n",
       "      <td>NaN</td>\n",
       "      <td>NaN</td>\n",
       "      <td>1.0</td>\n",
       "    </tr>\n",
       "    <tr>\n",
       "      <td>297</td>\n",
       "      <td>Jaewon Choi</td>\n",
       "      <td>Jaewon</td>\n",
       "      <td>Choi</td>\n",
       "      <td>Choi</td>\n",
       "      <td>jaewon.choi@tufts.edu</td>\n",
       "      <td>NaN</td>\n",
       "      <td>Jaewon Choi (University of Massachusetts Amher...</td>\n",
       "      <td>NaN</td>\n",
       "      <td>NaN</td>\n",
       "      <td>NaN</td>\n",
       "      <td>NaN</td>\n",
       "      <td>NaN</td>\n",
       "      <td>1.0</td>\n",
       "    </tr>\n",
       "  </tbody>\n",
       "</table>\n",
       "</div>"
      ],
      "text/plain": [
       "                             name       FirstName        LastName  \\\n",
       "109  Beaulieu-Jones, Brett Kreigh    Brett Kreigh  Beaulieu-Jones   \n",
       "115               Austin R Benson        Austin R          Benson   \n",
       "198        Cannon, Benjamin Zenas  Benjamin Zenas          Cannon   \n",
       "225             Daniel A. Chapman       Daniel A.         Chapman   \n",
       "297                   Jaewon Choi          Jaewon            Choi   \n",
       "\n",
       "    last_surname_part                                 email secondary_email  \\\n",
       "109    Beaulieu-Jones  Brett_Beaulieu-Jones@hms.harvard.edu             NaN   \n",
       "115            Benson                    arb@cs.cornell.edu             NaN   \n",
       "198            Cannon  benjamin.cannon@trinityschoolnyc.org             NaN   \n",
       "225           Chapman       dchapman@seechangeinstitute.com             NaN   \n",
       "297              Choi                 jaewon.choi@tufts.edu             NaN   \n",
       "\n",
       "                                           graduate_id  \\\n",
       "109  Beaulieu-Jones, Brett Kreigh (University of Pe...   \n",
       "115        Austin R Benson (Stanford University; 2017)   \n",
       "198  Cannon, Benjamin Zenas (University of Californ...   \n",
       "225  Daniel A. Chapman (University of Massachusetts...   \n",
       "297  Jaewon Choi (University of Massachusetts Amher...   \n",
       "\n",
       "     survey complete_no reminder\\n  survey started_no reminder\\n  \\\n",
       "109                            NaN                           NaN   \n",
       "115                            NaN                           NaN   \n",
       "198                            NaN                           NaN   \n",
       "225                            NaN                           NaN   \n",
       "297                            NaN                           NaN   \n",
       "\n",
       "     completednew  startednew  Bounced  Opted_Out  \n",
       "109           NaN         NaN      NaN        1.0  \n",
       "115           NaN         NaN      NaN        1.0  \n",
       "198           NaN         NaN      NaN        1.0  \n",
       "225           NaN         NaN      NaN        1.0  \n",
       "297           NaN         NaN      NaN        1.0  "
      ]
     },
     "execution_count": 27,
     "metadata": {},
     "output_type": "execute_result"
    }
   ],
   "source": [
    "optout = wave1[wave1.Opted_Out == 1]\n",
    "optout.head(5)"
   ]
  },
  {
   "cell_type": "code",
   "execution_count": 131,
   "metadata": {},
   "outputs": [],
   "source": [
    "optouttogoogle = optout.loc[:,['graduate_id','LastName','FirstName','email']]"
   ]
  },
  {
   "cell_type": "code",
   "execution_count": 133,
   "metadata": {},
   "outputs": [],
   "source": [
    "optouttogoogle.to_csv(r'C:\\\\Users\\\\15952\\\\Desktop\\\\CSET\\\\newoptouts1221.csv')"
   ]
  },
  {
   "cell_type": "code",
   "execution_count": null,
   "metadata": {},
   "outputs": [],
   "source": []
  }
 ],
 "metadata": {
  "kernelspec": {
   "display_name": "Python 3",
   "language": "python",
   "name": "python3"
  },
  "language_info": {
   "codemirror_mode": {
    "name": "ipython",
    "version": 3
   },
   "file_extension": ".py",
   "mimetype": "text/x-python",
   "name": "python",
   "nbconvert_exporter": "python",
   "pygments_lexer": "ipython3",
   "version": "3.7.4"
  }
 },
 "nbformat": 4,
 "nbformat_minor": 2
}
